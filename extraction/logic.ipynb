{
 "cells": [
  {
   "cell_type": "code",
   "execution_count": 4,
   "id": "initial_id",
   "metadata": {
    "collapsed": true,
    "ExecuteTime": {
     "end_time": "2023-11-01T20:28:10.872064Z",
     "start_time": "2023-11-01T20:28:10.857982400Z"
    }
   },
   "outputs": [],
   "source": [
    "import pandas as pd\n",
    "from faker import Faker\n",
    "import random"
   ]
  },
  {
   "cell_type": "code",
   "execution_count": 25,
   "outputs": [
    {
     "data": {
      "text/plain": "       cycle_state  type                                               text  \\\n4540         False     1  %s, say something you've NEVER done. Those who...   \n4541         False     1                           %s, give out $ penalties   \n4542         False     1                                 %s, take a penalty   \n4543         False     1            %s, say %s's birthday or take a penalty   \n4544         False     1  %s, take off an item of clothing or take a pen...   \n...            ...   ...                                                ...   \n53093        False    13  Both teams, toast each other and take $ penalt...   \n53094        False    13  The team with the player who has the largest n...   \n53095        False    13  Team %t: Vote on which of your teammates is wa...   \n53096        False    13  Team %t: Pick two of your teammates to take a ...   \n61528        False     0                                                NaN   \n\n       key parent_key pack_name language  nb_players  \n4540   NaN        NaN   default       en           1  \n4541   NaN        NaN   default       en           1  \n4542   NaN        NaN   default       en           1  \n4543   NaN        NaN   default       en           2  \n4544   NaN        NaN   default       en           1  \n...    ...        ...       ...      ...         ...  \n53093  NaN        NaN       war       en           0  \n53094  NaN        NaN       war       en           0  \n53095  NaN        NaN       war       en           0  \n53096  NaN        NaN       war       en           0  \n61528  NaN        NaN       NaN       en           0  \n\n[5541 rows x 8 columns]",
      "text/html": "<div>\n<style scoped>\n    .dataframe tbody tr th:only-of-type {\n        vertical-align: middle;\n    }\n\n    .dataframe tbody tr th {\n        vertical-align: top;\n    }\n\n    .dataframe thead th {\n        text-align: right;\n    }\n</style>\n<table border=\"1\" class=\"dataframe\">\n  <thead>\n    <tr style=\"text-align: right;\">\n      <th></th>\n      <th>cycle_state</th>\n      <th>type</th>\n      <th>text</th>\n      <th>key</th>\n      <th>parent_key</th>\n      <th>pack_name</th>\n      <th>language</th>\n      <th>nb_players</th>\n    </tr>\n  </thead>\n  <tbody>\n    <tr>\n      <th>4540</th>\n      <td>False</td>\n      <td>1</td>\n      <td>%s, say something you've NEVER done. Those who...</td>\n      <td>NaN</td>\n      <td>NaN</td>\n      <td>default</td>\n      <td>en</td>\n      <td>1</td>\n    </tr>\n    <tr>\n      <th>4541</th>\n      <td>False</td>\n      <td>1</td>\n      <td>%s, give out $ penalties</td>\n      <td>NaN</td>\n      <td>NaN</td>\n      <td>default</td>\n      <td>en</td>\n      <td>1</td>\n    </tr>\n    <tr>\n      <th>4542</th>\n      <td>False</td>\n      <td>1</td>\n      <td>%s, take a penalty</td>\n      <td>NaN</td>\n      <td>NaN</td>\n      <td>default</td>\n      <td>en</td>\n      <td>1</td>\n    </tr>\n    <tr>\n      <th>4543</th>\n      <td>False</td>\n      <td>1</td>\n      <td>%s, say %s's birthday or take a penalty</td>\n      <td>NaN</td>\n      <td>NaN</td>\n      <td>default</td>\n      <td>en</td>\n      <td>2</td>\n    </tr>\n    <tr>\n      <th>4544</th>\n      <td>False</td>\n      <td>1</td>\n      <td>%s, take off an item of clothing or take a pen...</td>\n      <td>NaN</td>\n      <td>NaN</td>\n      <td>default</td>\n      <td>en</td>\n      <td>1</td>\n    </tr>\n    <tr>\n      <th>...</th>\n      <td>...</td>\n      <td>...</td>\n      <td>...</td>\n      <td>...</td>\n      <td>...</td>\n      <td>...</td>\n      <td>...</td>\n      <td>...</td>\n    </tr>\n    <tr>\n      <th>53093</th>\n      <td>False</td>\n      <td>13</td>\n      <td>Both teams, toast each other and take $ penalt...</td>\n      <td>NaN</td>\n      <td>NaN</td>\n      <td>war</td>\n      <td>en</td>\n      <td>0</td>\n    </tr>\n    <tr>\n      <th>53094</th>\n      <td>False</td>\n      <td>13</td>\n      <td>The team with the player who has the largest n...</td>\n      <td>NaN</td>\n      <td>NaN</td>\n      <td>war</td>\n      <td>en</td>\n      <td>0</td>\n    </tr>\n    <tr>\n      <th>53095</th>\n      <td>False</td>\n      <td>13</td>\n      <td>Team %t: Vote on which of your teammates is wa...</td>\n      <td>NaN</td>\n      <td>NaN</td>\n      <td>war</td>\n      <td>en</td>\n      <td>0</td>\n    </tr>\n    <tr>\n      <th>53096</th>\n      <td>False</td>\n      <td>13</td>\n      <td>Team %t: Pick two of your teammates to take a ...</td>\n      <td>NaN</td>\n      <td>NaN</td>\n      <td>war</td>\n      <td>en</td>\n      <td>0</td>\n    </tr>\n    <tr>\n      <th>61528</th>\n      <td>False</td>\n      <td>0</td>\n      <td>NaN</td>\n      <td>NaN</td>\n      <td>NaN</td>\n      <td>NaN</td>\n      <td>en</td>\n      <td>0</td>\n    </tr>\n  </tbody>\n</table>\n<p>5541 rows × 8 columns</p>\n</div>"
     },
     "execution_count": 25,
     "metadata": {},
     "output_type": "execute_result"
    }
   ],
   "source": [
    "df = pd.read_csv(\"output7.csv\")\n",
    "df = df[df[\"language\"] == \"en\"]\n",
    "df"
   ],
   "metadata": {
    "collapsed": false,
    "ExecuteTime": {
     "end_time": "2023-11-01T20:31:30.252733200Z",
     "start_time": "2023-11-01T20:31:30.130942300Z"
    }
   },
   "id": "adcdc84b8d45af9b"
  },
  {
   "cell_type": "code",
   "execution_count": 23,
   "outputs": [
    {
     "data": {
      "text/plain": "['Nancy', 'Ann', 'Stephanie', 'Veronica', 'Charlotte']"
     },
     "execution_count": 23,
     "metadata": {},
     "output_type": "execute_result"
    }
   ],
   "source": [
    "fake = Faker()\n",
    "players = [fake.first_name() for _ in range(5)]\n",
    "players"
   ],
   "metadata": {
    "collapsed": false,
    "ExecuteTime": {
     "end_time": "2023-11-01T20:31:05.024620800Z",
     "start_time": "2023-11-01T20:31:04.979236900Z"
    }
   },
   "id": "344a6f82f59dbfa3"
  },
  {
   "cell_type": "code",
   "execution_count": 29,
   "outputs": [
    {
     "data": {
      "text/plain": "      cycle_state  type                                               text  \\\n4540        False     1  %s, say something you've NEVER done. Those who...   \n4541        False     1                           %s, give out $ penalties   \n4542        False     1                                 %s, take a penalty   \n4543        False     1            %s, say %s's birthday or take a penalty   \n4544        False     1  %s, take off an item of clothing or take a pen...   \n...           ...   ...                                                ...   \n7048        False    25  Take $ penalties if you’ve ever behaved like a...   \n7049        False    25  %s and %s, if either one of you made your bed ...   \n7050        False    25  Take $ penalties if you’ve ever stopped seeing...   \n7051        False    25  Take $ penalties if you’ve ever bought cryptoc...   \n7052        False    25  If you’ve ever posted something on your Linked...   \n\n      key parent_key pack_name language  nb_players  \n4540  NaN        NaN   default       en           1  \n4541  NaN        NaN   default       en           1  \n4542  NaN        NaN   default       en           1  \n4543  NaN        NaN   default       en           2  \n4544  NaN        NaN   default       en           1  \n...   ...        ...       ...      ...         ...  \n7048  NaN        NaN   default       en           0  \n7049  NaN        NaN   default       en           2  \n7050  NaN        NaN   default       en           0  \n7051  NaN        NaN   default       en           0  \n7052  NaN        NaN   default       en           0  \n\n[2513 rows x 8 columns]",
      "text/html": "<div>\n<style scoped>\n    .dataframe tbody tr th:only-of-type {\n        vertical-align: middle;\n    }\n\n    .dataframe tbody tr th {\n        vertical-align: top;\n    }\n\n    .dataframe thead th {\n        text-align: right;\n    }\n</style>\n<table border=\"1\" class=\"dataframe\">\n  <thead>\n    <tr style=\"text-align: right;\">\n      <th></th>\n      <th>cycle_state</th>\n      <th>type</th>\n      <th>text</th>\n      <th>key</th>\n      <th>parent_key</th>\n      <th>pack_name</th>\n      <th>language</th>\n      <th>nb_players</th>\n    </tr>\n  </thead>\n  <tbody>\n    <tr>\n      <th>4540</th>\n      <td>False</td>\n      <td>1</td>\n      <td>%s, say something you've NEVER done. Those who...</td>\n      <td>NaN</td>\n      <td>NaN</td>\n      <td>default</td>\n      <td>en</td>\n      <td>1</td>\n    </tr>\n    <tr>\n      <th>4541</th>\n      <td>False</td>\n      <td>1</td>\n      <td>%s, give out $ penalties</td>\n      <td>NaN</td>\n      <td>NaN</td>\n      <td>default</td>\n      <td>en</td>\n      <td>1</td>\n    </tr>\n    <tr>\n      <th>4542</th>\n      <td>False</td>\n      <td>1</td>\n      <td>%s, take a penalty</td>\n      <td>NaN</td>\n      <td>NaN</td>\n      <td>default</td>\n      <td>en</td>\n      <td>1</td>\n    </tr>\n    <tr>\n      <th>4543</th>\n      <td>False</td>\n      <td>1</td>\n      <td>%s, say %s's birthday or take a penalty</td>\n      <td>NaN</td>\n      <td>NaN</td>\n      <td>default</td>\n      <td>en</td>\n      <td>2</td>\n    </tr>\n    <tr>\n      <th>4544</th>\n      <td>False</td>\n      <td>1</td>\n      <td>%s, take off an item of clothing or take a pen...</td>\n      <td>NaN</td>\n      <td>NaN</td>\n      <td>default</td>\n      <td>en</td>\n      <td>1</td>\n    </tr>\n    <tr>\n      <th>...</th>\n      <td>...</td>\n      <td>...</td>\n      <td>...</td>\n      <td>...</td>\n      <td>...</td>\n      <td>...</td>\n      <td>...</td>\n      <td>...</td>\n    </tr>\n    <tr>\n      <th>7048</th>\n      <td>False</td>\n      <td>25</td>\n      <td>Take $ penalties if you’ve ever behaved like a...</td>\n      <td>NaN</td>\n      <td>NaN</td>\n      <td>default</td>\n      <td>en</td>\n      <td>0</td>\n    </tr>\n    <tr>\n      <th>7049</th>\n      <td>False</td>\n      <td>25</td>\n      <td>%s and %s, if either one of you made your bed ...</td>\n      <td>NaN</td>\n      <td>NaN</td>\n      <td>default</td>\n      <td>en</td>\n      <td>2</td>\n    </tr>\n    <tr>\n      <th>7050</th>\n      <td>False</td>\n      <td>25</td>\n      <td>Take $ penalties if you’ve ever stopped seeing...</td>\n      <td>NaN</td>\n      <td>NaN</td>\n      <td>default</td>\n      <td>en</td>\n      <td>0</td>\n    </tr>\n    <tr>\n      <th>7051</th>\n      <td>False</td>\n      <td>25</td>\n      <td>Take $ penalties if you’ve ever bought cryptoc...</td>\n      <td>NaN</td>\n      <td>NaN</td>\n      <td>default</td>\n      <td>en</td>\n      <td>0</td>\n    </tr>\n    <tr>\n      <th>7052</th>\n      <td>False</td>\n      <td>25</td>\n      <td>If you’ve ever posted something on your Linked...</td>\n      <td>NaN</td>\n      <td>NaN</td>\n      <td>default</td>\n      <td>en</td>\n      <td>0</td>\n    </tr>\n  </tbody>\n</table>\n<p>2513 rows × 8 columns</p>\n</div>"
     },
     "execution_count": 29,
     "metadata": {},
     "output_type": "execute_result"
    }
   ],
   "source": [
    "default = df[df[\"pack_name\"] == \"default\"]\n",
    "default"
   ],
   "metadata": {
    "collapsed": false,
    "ExecuteTime": {
     "end_time": "2023-11-01T20:32:18.623558500Z",
     "start_time": "2023-11-01T20:32:18.600420900Z"
    }
   },
   "id": "92f5996d1282d1e2"
  },
  {
   "cell_type": "code",
   "execution_count": 36,
   "outputs": [
    {
     "name": "stdout",
     "output_type": "stream",
     "text": [
      "Educational jobs. If you repeat, or can’t think of one, take a penalty. %s, you start 1\n",
      "%s, you’ve been struck by Cupid’s arrow. Every time you address someone, you must add “I love you” 1\n",
      "Take a penalty if your partner is often hornier than you 0\n",
      "Encanto 3\n",
      "Take a penalty if you didn't pay for anything tonight, cheapskate 0\n",
      "%s, who do you think always wants to be right, %s or %s? They have to take $ penalties 3\n",
      "Engineers or future engineers, take $ penalties 0\n",
      "McDonald's or healthy food after a night partying? Everyone vote at once, losing group takes $ penalties 0\n",
      "Take a penalty if you don't like your stepmother 0\n",
      "Would you rather have to listen to the chorus of a Katy Perry song over and over for 24 hours, or be in a cage with a bear for 20 seconds? Everyone vote at once, losing group takes $ penalties 0\n"
     ]
    }
   ],
   "source": [
    "def generate_game(df, length=10):\n",
    "    game = []\n",
    "    while len(game) < length: \n",
    "        # get random db row\n",
    "        random_row = df.sample(n=1, random_state=random.seed())\n",
    "        \n",
    "        # if its already in the game go again\n",
    "        index = random_row.index[0]\n",
    "        if index in game:\n",
    "            continue\n",
    "            \n",
    "        random_row = random_row.to_dict(orient=\"records\")[0]\n",
    "        print(random_row[\"text\"], random_row[\"nb_players\"])\n",
    "        game.append(random_row[\"text\"])\n",
    "            \n",
    "generate_game(default, length=10)"
   ],
   "metadata": {
    "collapsed": false,
    "ExecuteTime": {
     "end_time": "2023-11-01T20:39:53.151951600Z",
     "start_time": "2023-11-01T20:39:53.127952800Z"
    }
   },
   "id": "16520bc139582b7b"
  },
  {
   "cell_type": "code",
   "execution_count": 21,
   "outputs": [
    {
     "data": {
      "text/plain": "6423    Everyone with the letter \"e\" in their first na...\nName: text, dtype: object"
     },
     "execution_count": 21,
     "metadata": {},
     "output_type": "execute_result"
    }
   ],
   "source": [
    "default.sample(n=1, random_state=random.seed()).text"
   ],
   "metadata": {
    "collapsed": false,
    "ExecuteTime": {
     "end_time": "2023-11-01T20:29:15.554949Z",
     "start_time": "2023-11-01T20:29:15.549440600Z"
    }
   },
   "id": "4e67c3f4efa000e3"
  },
  {
   "cell_type": "code",
   "execution_count": 31,
   "outputs": [
    {
     "data": {
      "text/plain": "{'cycle_state': False,\n 'type': 14,\n 'text': 'Would you rather live in a world where Pokémon are real, or a world where magic exists? Everyone vote at once, losing group takes $ penalties',\n 'key': nan,\n 'parent_key': nan,\n 'pack_name': 'default',\n 'language': 'en',\n 'nb_players': 0}"
     },
     "execution_count": 31,
     "metadata": {},
     "output_type": "execute_result"
    }
   ],
   "source": [],
   "metadata": {
    "collapsed": false,
    "ExecuteTime": {
     "end_time": "2023-11-01T20:37:25.870101Z",
     "start_time": "2023-11-01T20:37:25.857581400Z"
    }
   },
   "id": "af4216910b3e1c9f"
  }
 ],
 "metadata": {
  "kernelspec": {
   "display_name": "Python 3",
   "language": "python",
   "name": "python3"
  },
  "language_info": {
   "codemirror_mode": {
    "name": "ipython",
    "version": 2
   },
   "file_extension": ".py",
   "mimetype": "text/x-python",
   "name": "python",
   "nbconvert_exporter": "python",
   "pygments_lexer": "ipython2",
   "version": "2.7.6"
  }
 },
 "nbformat": 4,
 "nbformat_minor": 5
}
